{
 "cells": [
  {
   "cell_type": "markdown",
   "metadata": {},
   "source": [
    "Name: NA MA\n",
    "ID: qq218099"
   ]
  },
  {
   "cell_type": "code",
   "execution_count": 1,
   "metadata": {},
   "outputs": [
    {
     "name": "stderr",
     "output_type": "stream",
     "text": [
      "Using Theano backend.\n"
     ]
    }
   ],
   "source": [
    "import pandas as pd\n",
    "import numpy as np\n",
    "from sklearn.model_selection import GridSearchCV\n",
    "from sklearn.ensemble import RandomForestRegressor\n",
    "from keras.models import Sequential\n",
    "from keras.layers import Dense\n",
    "from keras.wrappers.scikit_learn import KerasRegressor\n",
    "from sklearn.model_selection import cross_val_score\n",
    "from sklearn.model_selection import KFold\n",
    "from sklearn.preprocessing import StandardScaler\n",
    "from sklearn.pipeline import Pipeline"
   ]
  },
  {
   "cell_type": "code",
   "execution_count": 2,
   "metadata": {
    "collapsed": true
   },
   "outputs": [],
   "source": [
    "#load dataset with pandas"
   ]
  },
  {
   "cell_type": "code",
   "execution_count": 3,
   "metadata": {
    "collapsed": true
   },
   "outputs": [],
   "source": [
    "from os.path import expanduser as ospath\n",
    "Variant_1 = pd.read_csv(ospath(\"path/to/file/Features_Variant_1.csv\"),header=None)\n",
    "Variant_2 = pd.read_csv(ospath(\"path/to/file/Features_Variant_2.csv\"),header=None)\n",
    "Variant_3 = pd.read_csv(ospath(\"path/to/file/Features_Variant_3.csv\"),header=None)\n",
    "Variant_4 = pd.read_csv(ospath(\"path/to/file/Features_Variant_4.csv\"),header=None)\n",
    "Variant_5 = pd.read_csv(ospath(\"path/to/file/Features_Variant_5.csv\"),header=None)\n",
    "TestSet = pd.read_csv(ospath(\"path/to/file/Features_TestSet.csv\"),header=None)"
   ]
  },
  {
   "cell_type": "code",
   "execution_count": 4,
   "metadata": {
    "collapsed": true
   },
   "outputs": [],
   "source": [
    "#header file for all dtaset header info\n",
    "header = pd.read_csv(ospath(\"path/to/file/header.csv\"),header=0)"
   ]
  },
  {
   "cell_type": "code",
   "execution_count": 5,
   "metadata": {
    "collapsed": true
   },
   "outputs": [],
   "source": [
    "from sklearn.model_selection import train_test_split"
   ]
  },
  {
   "cell_type": "code",
   "execution_count": 6,
   "metadata": {
    "collapsed": true
   },
   "outputs": [],
   "source": [
    "#Preprocess dataset,define function for feature/target separation, train/test split\n",
    "def preprocessing(variant_x):\n",
    "    train_variant = pd.DataFrame(variant_x)\n",
    "    train_variant.columns=header.columns\n",
    "    target = 'Target'\n",
    "    features = list(train_variant.columns)\n",
    "    features = [f for f in features if f!=target]\n",
    "    X=train_variant[features]\n",
    "    y=train_variant[[target]]\n",
    "    X_train_1, X_test_1, y_train_1, y_test_1 = train_test_split(X, y, test_size=0.3,random_state=42)\n",
    "    return X_train_1, X_test_1, y_train_1, y_test_1"
   ]
  },
  {
   "cell_type": "code",
   "execution_count": 7,
   "metadata": {
    "collapsed": true
   },
   "outputs": [],
   "source": [
    "from sklearn.ensemble import RandomForestRegressor\n",
    "from sklearn.metrics import mean_squared_error"
   ]
  },
  {
   "cell_type": "code",
   "execution_count": 8,
   "metadata": {
    "collapsed": true
   },
   "outputs": [],
   "source": [
    "#using random forest regressor conduct prediction "
   ]
  },
  {
   "cell_type": "code",
   "execution_count": 9,
   "metadata": {
    "collapsed": true
   },
   "outputs": [],
   "source": [
    "#function for Grid_search_cv for randomforestregressor\n",
    "def Grid_Search_CV_RFR(X_train, y_train):\n",
    "    estimator = RandomForestRegressor()\n",
    "    param_grid = { \n",
    "            \"n_estimators\"      : [10,20,30],\n",
    "            \"max_features\"      : [\"auto\", \"sqrt\", \"log2\"],\n",
    "            \"min_samples_split\" : [2,4,8],\n",
    "            \"bootstrap\": [True, False],\n",
    "            }\n",
    "\n",
    "    grid = GridSearchCV(estimator, param_grid, n_jobs=-1, cv=3,scoring='mean_squared_error')\n",
    "\n",
    "    grid.fit(X_train, y_train)\n",
    "\n",
    "    return grid.best_score_ , grid.best_params_"
   ]
  },
  {
   "cell_type": "code",
   "execution_count": 10,
   "metadata": {
    "collapsed": true
   },
   "outputs": [],
   "source": [
    "from sklearn.metrics import r2_score"
   ]
  },
  {
   "cell_type": "code",
   "execution_count": 11,
   "metadata": {
    "collapsed": true
   },
   "outputs": [],
   "source": [
    "def RFR(X_train, X_test, y_train, y_test, best_params):\n",
    "    from sklearn.ensemble import RandomForestRegressor\n",
    "    estimator = RandomForestRegressor(n_jobs=-1).set_params(**best_params)\n",
    "    estimator.fit(X_train,y_train)\n",
    "    y_predict = estimator.predict(X_test)\n",
    "    print (\"R2 score:\",r2_score(y_test,y_predict))\n",
    "    print(\"MSE:\",mean_squared_error(y_test,y_predict))\n",
    "    return r2_score(y_test,y_predict),mean_squared_error(y_test,y_predict)"
   ]
  },
  {
   "cell_type": "code",
   "execution_count": 12,
   "metadata": {
    "collapsed": true
   },
   "outputs": [],
   "source": [
    "#with varian_1 step one =preprocessing-gridsearch"
   ]
  },
  {
   "cell_type": "code",
   "execution_count": 13,
   "metadata": {
    "collapsed": true
   },
   "outputs": [],
   "source": [
    "X_train_1, X_test_1, y_train_1, y_test_1 =preprocessing(Variant_1)"
   ]
  },
  {
   "cell_type": "code",
   "execution_count": 14,
   "metadata": {},
   "outputs": [
    {
     "name": "stderr",
     "output_type": "stream",
     "text": [
      "C:\\Users\\chippy\\Anaconda3\\lib\\site-packages\\sklearn\\model_selection\\_search.py:645: DataConversionWarning: A column-vector y was passed when a 1d array was expected. Please change the shape of y to (n_samples,), for example using ravel().\n",
      "  best_estimator.fit(X, y, **self.fit_params)\n"
     ]
    }
   ],
   "source": [
    "best_score, best_params= Grid_Search_CV_RFR(X_train_1, y_train_1)"
   ]
  },
  {
   "cell_type": "code",
   "execution_count": 15,
   "metadata": {},
   "outputs": [
    {
     "name": "stderr",
     "output_type": "stream",
     "text": [
      "C:\\Users\\chippy\\Anaconda3\\lib\\site-packages\\ipykernel_launcher.py:4: DataConversionWarning: A column-vector y was passed when a 1d array was expected. Please change the shape of y to (n_samples,), for example using ravel().\n",
      "  after removing the cwd from sys.path.\n"
     ]
    },
    {
     "name": "stdout",
     "output_type": "stream",
     "text": [
      "R2 score: 0.626473670797\n",
      "MSE: 379.311123574\n"
     ]
    },
    {
     "data": {
      "text/plain": [
       "(0.62647367079710981, 379.31112357408534)"
      ]
     },
     "execution_count": 15,
     "metadata": {},
     "output_type": "execute_result"
    }
   ],
   "source": [
    "RFR(X_train_1,X_test_1, y_train_1, y_test_1,best_params)"
   ]
  },
  {
   "cell_type": "code",
   "execution_count": 16,
   "metadata": {
    "collapsed": true
   },
   "outputs": [],
   "source": [
    "#scalling X_train,X_test-to see r2 score and mse change"
   ]
  },
  {
   "cell_type": "code",
   "execution_count": 17,
   "metadata": {
    "collapsed": true
   },
   "outputs": [],
   "source": [
    "def scalling (X_train_1,X_test_1):\n",
    "    scaler = StandardScaler()\n",
    "    scaler.fit(X_train_1)\n",
    "    X_trainS = scaler.transform(X_train_1)\n",
    "    X_testS = scaler.transform(X_test_1)\n",
    "    return X_trainS,X_testS "
   ]
  },
  {
   "cell_type": "code",
   "execution_count": 18,
   "metadata": {
    "collapsed": true
   },
   "outputs": [],
   "source": [
    "X_trainS,X_testS=scalling (X_train_1,X_test_1)"
   ]
  },
  {
   "cell_type": "code",
   "execution_count": 19,
   "metadata": {},
   "outputs": [
    {
     "name": "stderr",
     "output_type": "stream",
     "text": [
      "C:\\Users\\chippy\\Anaconda3\\lib\\site-packages\\sklearn\\model_selection\\_search.py:645: DataConversionWarning: A column-vector y was passed when a 1d array was expected. Please change the shape of y to (n_samples,), for example using ravel().\n",
      "  best_estimator.fit(X, y, **self.fit_params)\n"
     ]
    }
   ],
   "source": [
    "best_score, best_params= Grid_Search_CV_RFR(X_trainS, y_train_1)"
   ]
  },
  {
   "cell_type": "code",
   "execution_count": 20,
   "metadata": {},
   "outputs": [
    {
     "name": "stderr",
     "output_type": "stream",
     "text": [
      "C:\\Users\\chippy\\Anaconda3\\lib\\site-packages\\ipykernel_launcher.py:4: DataConversionWarning: A column-vector y was passed when a 1d array was expected. Please change the shape of y to (n_samples,), for example using ravel().\n",
      "  after removing the cwd from sys.path.\n"
     ]
    },
    {
     "name": "stdout",
     "output_type": "stream",
     "text": [
      "R2 score: 0.608588345412\n",
      "MSE: 397.473438615\n"
     ]
    }
   ],
   "source": [
    "Variant_1_R2,Variant_1_MSE=RFR(X_trainS,X_testS, y_train_1, y_test_1,best_params)"
   ]
  },
  {
   "cell_type": "code",
   "execution_count": 22,
   "metadata": {},
   "outputs": [
    {
     "name": "stderr",
     "output_type": "stream",
     "text": [
      "C:\\Users\\chippy\\Anaconda3\\lib\\site-packages\\sklearn\\model_selection\\_search.py:645: DataConversionWarning: A column-vector y was passed when a 1d array was expected. Please change the shape of y to (n_samples,), for example using ravel().\n",
      "  best_estimator.fit(X, y, **self.fit_params)\n",
      "C:\\Users\\chippy\\Anaconda3\\lib\\site-packages\\ipykernel_launcher.py:4: DataConversionWarning: A column-vector y was passed when a 1d array was expected. Please change the shape of y to (n_samples,), for example using ravel().\n",
      "  after removing the cwd from sys.path.\n"
     ]
    },
    {
     "name": "stdout",
     "output_type": "stream",
     "text": [
      "R2 score: 0.662810213569\n",
      "MSE: 428.016630588\n"
     ]
    }
   ],
   "source": [
    "#Variant_2 data \n",
    "X_train_2, X_test_2, y_train_2, y_test_2 =preprocessing(Variant_2)\n",
    "X_trainS2,X_testS2 = scalling(X_train_2,X_test_2)\n",
    "best_score, best_params= Grid_Search_CV_RFR(X_train_2, y_train_2)\n",
    "Variant_2_R2,Variant_2_MSE=RFR(X_trainS2,X_testS2, y_train_2, y_test_2,best_params)"
   ]
  },
  {
   "cell_type": "code",
   "execution_count": 23,
   "metadata": {},
   "outputs": [
    {
     "name": "stderr",
     "output_type": "stream",
     "text": [
      "C:\\Users\\chippy\\Anaconda3\\lib\\site-packages\\sklearn\\model_selection\\_search.py:645: DataConversionWarning: A column-vector y was passed when a 1d array was expected. Please change the shape of y to (n_samples,), for example using ravel().\n",
      "  best_estimator.fit(X, y, **self.fit_params)\n",
      "C:\\Users\\chippy\\Anaconda3\\lib\\site-packages\\ipykernel_launcher.py:4: DataConversionWarning: A column-vector y was passed when a 1d array was expected. Please change the shape of y to (n_samples,), for example using ravel().\n",
      "  after removing the cwd from sys.path.\n"
     ]
    },
    {
     "name": "stdout",
     "output_type": "stream",
     "text": [
      "R2 score: 0.709740837842\n",
      "MSE: 354.161491373\n"
     ]
    }
   ],
   "source": [
    "#Variant_3 data \n",
    "X_train_3, X_test_3, y_train_3, y_test_3 =preprocessing(Variant_3)\n",
    "X_trainS3,X_testS3 = scalling(X_train_3,X_test_3)\n",
    "best_score, best_params= Grid_Search_CV_RFR(X_train_3, y_train_3)\n",
    "Variant_3_R2,Variant_3_MSE=RFR(X_trainS3,X_testS3, y_train_3, y_test_3,best_params)"
   ]
  },
  {
   "cell_type": "code",
   "execution_count": 24,
   "metadata": {},
   "outputs": [
    {
     "name": "stderr",
     "output_type": "stream",
     "text": [
      "C:\\Users\\chippy\\Anaconda3\\lib\\site-packages\\sklearn\\model_selection\\_search.py:645: DataConversionWarning: A column-vector y was passed when a 1d array was expected. Please change the shape of y to (n_samples,), for example using ravel().\n",
      "  best_estimator.fit(X, y, **self.fit_params)\n",
      "C:\\Users\\chippy\\Anaconda3\\lib\\site-packages\\ipykernel_launcher.py:4: DataConversionWarning: A column-vector y was passed when a 1d array was expected. Please change the shape of y to (n_samples,), for example using ravel().\n",
      "  after removing the cwd from sys.path.\n"
     ]
    },
    {
     "name": "stdout",
     "output_type": "stream",
     "text": [
      "R2 score: 0.647532674791\n",
      "MSE: 391.414477673\n"
     ]
    }
   ],
   "source": [
    "#Variant_4 data\n",
    "X_train_4, X_test_4, y_train_4, y_test_4 =preprocessing(Variant_4)\n",
    "X_trainS4,X_testS4 = scalling(X_train_4,X_test_4)\n",
    "best_score, best_params= Grid_Search_CV_RFR(X_train_4, y_train_4)\n",
    "Variant_4_R2,Variant_4_MSE=RFR(X_trainS4,X_testS4, y_train_4, y_test_4,best_params)"
   ]
  },
  {
   "cell_type": "code",
   "execution_count": 25,
   "metadata": {},
   "outputs": [
    {
     "name": "stderr",
     "output_type": "stream",
     "text": [
      "C:\\Users\\chippy\\Anaconda3\\lib\\site-packages\\sklearn\\model_selection\\_search.py:645: DataConversionWarning: A column-vector y was passed when a 1d array was expected. Please change the shape of y to (n_samples,), for example using ravel().\n",
      "  best_estimator.fit(X, y, **self.fit_params)\n",
      "C:\\Users\\chippy\\Anaconda3\\lib\\site-packages\\ipykernel_launcher.py:4: DataConversionWarning: A column-vector y was passed when a 1d array was expected. Please change the shape of y to (n_samples,), for example using ravel().\n",
      "  after removing the cwd from sys.path.\n"
     ]
    },
    {
     "name": "stdout",
     "output_type": "stream",
     "text": [
      "R2 score: 0.726976095501\n",
      "MSE: 280.155448229\n"
     ]
    }
   ],
   "source": [
    "#Variant_5 data\n",
    "X_train_5, X_test_5, y_train_5, y_test_5 =preprocessing(Variant_5)\n",
    "X_trainS5,X_testS5 = scalling(X_train_5,X_test_5)\n",
    "best_score, best_params= Grid_Search_CV_RFR(X_train_5, y_train_5)\n",
    "Variant_5_R2,Variant_5_MSE=RFR(X_trainS5,X_testS5, y_train_5, y_test_5,best_params)"
   ]
  },
  {
   "cell_type": "code",
   "execution_count": 26,
   "metadata": {},
   "outputs": [
    {
     "name": "stderr",
     "output_type": "stream",
     "text": [
      "C:\\Users\\chippy\\Anaconda3\\lib\\site-packages\\sklearn\\model_selection\\_search.py:645: DataConversionWarning: A column-vector y was passed when a 1d array was expected. Please change the shape of y to (n_samples,), for example using ravel().\n",
      "  best_estimator.fit(X, y, **self.fit_params)\n",
      "C:\\Users\\chippy\\Anaconda3\\lib\\site-packages\\ipykernel_launcher.py:4: DataConversionWarning: A column-vector y was passed when a 1d array was expected. Please change the shape of y to (n_samples,), for example using ravel().\n",
      "  after removing the cwd from sys.path.\n"
     ]
    },
    {
     "name": "stdout",
     "output_type": "stream",
     "text": [
      "R2 score: 0.540837446134\n",
      "MSE: 5818.94583436\n"
     ]
    }
   ],
   "source": [
    "#Test data\n",
    "X_train_T, X_test_T, y_train_T, y_test_T =preprocessing(TestSet)\n",
    "X_trainST,X_testST = scalling(X_train_T,X_test_T)\n",
    "best_score, best_params= Grid_Search_CV_RFR(X_train_T, y_train_T)\n",
    "Variant_T_R2,Variant_T_MSE=RFR(X_trainST,X_testST, y_train_T, y_test_T,best_params)"
   ]
  },
  {
   "cell_type": "code",
   "execution_count": 31,
   "metadata": {},
   "outputs": [
    {
     "data": {
      "text/plain": [
       "5818.9458343596352"
      ]
     },
     "execution_count": 31,
     "metadata": {},
     "output_type": "execute_result"
    }
   ],
   "source": [
    "Variant_T_MSE"
   ]
  },
  {
   "cell_type": "code",
   "execution_count": 32,
   "metadata": {},
   "outputs": [
    {
     "data": {
      "image/png": "[encoded data removed]",
      "text/plain": [
       "<matplotlib.figure.Figure at 0x1c7b5f2dac8>"
      ]
     },
     "metadata": {},
     "output_type": "display_data"
    }
   ],
   "source": [
    "# Final plot of all dataset's MSE using random forest regressor\n",
    "import matplotlib.pyplot as plt\n",
    "x = ['V1_MSE', 'V2_MSE', 'V3_MSE', 'V4_MSE', 'V5_MSE','T_MSE']\n",
    "y = [Variant_1_MSE,Variant_2_MSE,Variant_3_MSE,Variant_4_MSE,Variant_5_MSE,Variant_T_MSE]\n",
    "\n",
    "x_pos = [i for i, _ in enumerate(x)]\n",
    "\n",
    "plt.bar(x_pos, y, color='green')\n",
    "plt.xlabel(x)\n",
    "plt.ylabel(\"MSE\")\n",
    "plt.title(\"MSE For all dataset\")\n",
    "plt.show()"
   ]
  },
  {
   "cell_type": "code",
   "execution_count": null,
   "metadata": {
    "collapsed": true
   },
   "outputs": [],
   "source": [
    "#using keras -with cross validation"
   ]
  },
  {
   "cell_type": "code",
   "execution_count": 6,
   "metadata": {
    "collapsed": true
   },
   "outputs": [],
   "source": [
    "dataset = Variant_1.values"
   ]
  },
  {
   "cell_type": "code",
   "execution_count": 7,
   "metadata": {
    "collapsed": true
   },
   "outputs": [],
   "source": [
    "X=dataset[:,0:53]\n",
    "Y=dataset[:,-1]"
   ]
  },
  {
   "cell_type": "code",
   "execution_count": 13,
   "metadata": {
    "collapsed": true
   },
   "outputs": [],
   "source": [
    "# define base model\n",
    "def baseline_model():\n",
    "# create model\n",
    "    model = Sequential()\n",
    "    model.add(Dense(15, input_dim=53, kernel_initializer='normal', activation='relu'))\n",
    "    model.add(Dense(1, kernel_initializer='normal'))\n",
    "# Compile model\n",
    "    model.compile(loss='mean_squared_error', optimizer='adam')\n",
    "    return model"
   ]
  },
  {
   "cell_type": "code",
   "execution_count": 14,
   "metadata": {
    "collapsed": true
   },
   "outputs": [],
   "source": [
    "seed = 7\n",
    "numpy.random.seed(seed)\n",
    "# evaluate model with standardized dataset\n",
    "estimator = KerasRegressor(build_fn=baseline_model, nb_epoch=100, batch_size=5, verbose=0)"
   ]
  },
  {
   "cell_type": "code",
   "execution_count": 15,
   "metadata": {
    "scrolled": true
   },
   "outputs": [
    {
     "name": "stdout",
     "output_type": "stream",
     "text": [
      "Standardized: -1062.29 (983.96) MSE\n"
     ]
    }
   ],
   "source": [
    "numpy.random.seed(seed)\n",
    "estimators = []\n",
    "estimators.append(('standardize', StandardScaler()))\n",
    "estimators.append(('mlp', KerasRegressor(build_fn=baseline_model, epochs=10, batch_size=5, verbose=0)))\n",
    "pipeline = Pipeline(estimators)\n",
    "kfold = KFold(n_splits=5, random_state=seed)\n",
    "results1 = cross_val_score(pipeline, X,Y, cv=kfold)\n",
    "print(\"Standardized: %.2f (%.2f) MSE\" % (results.mean(), results.std()))"
   ]
  },
  {
   "cell_type": "code",
   "execution_count": null,
   "metadata": {
    "collapsed": true
   },
   "outputs": [],
   "source": [
    "Variant_1_MSE=results1.mean()"
   ]
  },
  {
   "cell_type": "code",
   "execution_count": 21,
   "metadata": {
    "collapsed": true
   },
   "outputs": [],
   "source": [
    "#Varian_2\n",
    "dataset = Variant_2.values\n",
    "X_2=dataset[:,0:53]\n",
    "Y_2=dataset[:,-1]"
   ]
  },
  {
   "cell_type": "code",
   "execution_count": 22,
   "metadata": {},
   "outputs": [
    {
     "name": "stdout",
     "output_type": "stream",
     "text": [
      "Standardized: -1058.70 (679.59) MSE\n"
     ]
    }
   ],
   "source": [
    "results2 = cross_val_score(pipeline, X_2,Y_2, cv=kfold)\n",
    "Variant_2_MSE=results2.mean()\n",
    "print(\"Standardized: %.2f (%.2f) MSE\" % (results1.mean(), results1.std()))"
   ]
  },
  {
   "cell_type": "code",
   "execution_count": 24,
   "metadata": {
    "collapsed": true
   },
   "outputs": [],
   "source": [
    "#Varian_3\n",
    "dataset = Variant_3.values\n",
    "X_3=dataset[:,0:53]\n",
    "Y_3=dataset[:,-1]"
   ]
  },
  {
   "cell_type": "code",
   "execution_count": 27,
   "metadata": {},
   "outputs": [
    {
     "name": "stdout",
     "output_type": "stream",
     "text": [
      "Standardized: -805.09 (574.59) MSE\n"
     ]
    }
   ],
   "source": [
    "results3 = cross_val_score(pipeline, X_3,Y_3, cv=kfold)\n",
    "Variant_3_MSE=results3.mean()\n",
    "print(\"Standardized: %.2f (%.2f) MSE\" % (results3.mean(), results3.std()))"
   ]
  },
  {
   "cell_type": "code",
   "execution_count": 28,
   "metadata": {
    "collapsed": true
   },
   "outputs": [],
   "source": [
    "#Varian_4\n",
    "dataset = Variant_4.values\n",
    "X_4=dataset[:,0:53]\n",
    "Y_4=dataset[:,-1]"
   ]
  },
  {
   "cell_type": "code",
   "execution_count": 29,
   "metadata": {},
   "outputs": [
    {
     "name": "stdout",
     "output_type": "stream",
     "text": [
      "Standardized: -1278.00 (1418.92) MSE\n"
     ]
    }
   ],
   "source": [
    "results4 = cross_val_score(pipeline, X_4,Y_4, cv=kfold)\n",
    "Variant_4_MSE=results4.mean()\n",
    "print(\"Standardized: %.2f (%.2f) MSE\" % (results4.mean(), results4.std()))"
   ]
  },
  {
   "cell_type": "code",
   "execution_count": 32,
   "metadata": {
    "collapsed": true
   },
   "outputs": [],
   "source": [
    "#Varian_5\n",
    "dataset = Variant_5.values\n",
    "X_5=dataset[:,0:53]\n",
    "Y_5=dataset[:,-1]"
   ]
  },
  {
   "cell_type": "code",
   "execution_count": 33,
   "metadata": {},
   "outputs": [
    {
     "name": "stdout",
     "output_type": "stream",
     "text": [
      "Standardized: -811.63 (552.94) MSE\n"
     ]
    }
   ],
   "source": [
    "results5 = cross_val_score(pipeline, X_5,Y_5, cv=kfold)\n",
    "Variant_5_MSE=results5.mean()\n",
    "print(\"Standardized: %.2f (%.2f) MSE\" % (results5.mean(), results5.std()))"
   ]
  },
  {
   "cell_type": "code",
   "execution_count": 34,
   "metadata": {
    "collapsed": true
   },
   "outputs": [],
   "source": [
    "#Test set\n",
    "dataset = TestSet.values\n",
    "X_T=dataset[:,0:53]\n",
    "Y_T=dataset[:,-1]"
   ]
  },
  {
   "cell_type": "code",
   "execution_count": 35,
   "metadata": {},
   "outputs": [
    {
     "name": "stdout",
     "output_type": "stream",
     "text": [
      "Standardized: -10577.30 (4276.55) MSE\n"
     ]
    }
   ],
   "source": [
    "resultsT = cross_val_score(pipeline, X_T,Y_T, cv=kfold)\n",
    "Test_MSE=resultsT.mean()\n",
    "print(\"Standardized: %.2f (%.2f) MSE\" % (resultsT.mean(), resultsT.std()))"
   ]
  },
  {
   "cell_type": "code",
   "execution_count": 36,
   "metadata": {
    "collapsed": true
   },
   "outputs": [],
   "source": [
    "#pot results with keras"
   ]
  },
  {
   "cell_type": "code",
   "execution_count": 59,
   "metadata": {},
   "outputs": [
    {
     "data": {
      "image/png": "[encoded data removed]",
      "text/plain": [
       "<matplotlib.figure.Figure at 0x1c08feaac50>"
      ]
     },
     "metadata": {},
     "output_type": "display_data"
    }
   ],
   "source": [
    "# Final plot of all dataset's MSE using random forest regressor\n",
    "import matplotlib.pyplot as plt\n",
    "x = ['V1_MSE', 'V2_MSE', 'V3_MSE', 'V4_MSE', 'V5_MSE', 'Test']\n",
    "y = [np.absolute(Variant_1_MSE),np.absolute(Variant_2_MSE),np.absolute(Variant_3_MSE),np.absolute(Variant_4_MSE),np.absolute(Variant_5_MSE),np.absolute(Test_MSE)]\n",
    "\n",
    "x_pos = [i for i, _ in enumerate(x)]\n",
    "\n",
    "plt.bar(x_pos, y, color='green')\n",
    "plt.xlabel(x)\n",
    "plt.ylabel(\"MSE\")\n",
    "plt.title(\"MSE For all dataset\")\n",
    "plt.show()"
   ]
  },
  {
   "cell_type": "markdown",
   "metadata": {},
   "source": [
    "Conclusion: compared to Keras results random forest regressor returned better results in terms of MSE. I only used cross validation for keras, i believe it is due to my limited understanding of keras, i tried to run grid search with below code, it took really long time to run, i didnt get any error but couldnt get the result. "
   ]
  },
  {
   "cell_type": "code",
   "execution_count": 47,
   "metadata": {
    "collapsed": true
   },
   "outputs": [],
   "source": [
    "#Keras+gridsearch--"
   ]
  },
  {
   "cell_type": "code",
   "execution_count": 8,
   "metadata": {
    "collapsed": true
   },
   "outputs": [],
   "source": [
    "model= KerasRegressor(build_fn=baseline_model, nb_epoch=100, batch_size=5, verbose=0)"
   ]
  },
  {
   "cell_type": "code",
   "execution_count": null,
   "metadata": {
    "collapsed": true
   },
   "outputs": [],
   "source": [
    "param_grid = dict(epochs=[10,20,30])\n",
    "grid = GridSearchCV(estimator=model, param_grid=param_grid, n_jobs=-1)\n",
    "grid_result = grid.fit(X,Y)"
   ]
  },
  {
   "cell_type": "code",
   "execution_count": null,
   "metadata": {
    "collapsed": true
   },
   "outputs": [],
   "source": [
    "print(\"Best: %f using %s\" % (grid_result.best_score_, grid_result.best_params_))\n",
    "means = grid_result.cv_results_['mean_test_score']\n",
    "stds = grid_result.cv_results_['std_test_score']\n",
    "params = grid_result.cv_results_['params']\n",
    "for mean, stdev, param in zip(means, stds, params):\n",
    "    print(\"%f (%f) with: %r\" % (mean, stdev, param))"
   ]
  }
 ],
 "metadata": {
  "kernelspec": {
   "display_name": "Python 3",
   "language": "python",
   "name": "python3"
  },
  "language_info": {
   "codemirror_mode": {
    "name": "ipython",
    "version": 3
   },
   "file_extension": ".py",
   "mimetype": "text/x-python",
   "name": "python",
   "nbconvert_exporter": "python",
   "pygments_lexer": "ipython3",
   "version": "3.6.1"
  }
 },
 "nbformat": 4,
 "nbformat_minor": 2
}
