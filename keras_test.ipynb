{
 "cells": [
  {
   "cell_type": "code",
   "execution_count": 17,
   "metadata": {},
   "outputs": [],
   "source": [
    "import pandas as pd\n",
    "import numpy \n",
    "from sklearn.model_selection import GridSearchCV\n",
    "from sklearn.ensemble import RandomForestRegressor\n",
    "from keras.models import Sequential\n",
    "from keras.layers import Dense\n",
    "from keras.wrappers.scikit_learn import KerasRegressor\n",
    "from sklearn.model_selection import cross_val_score\n",
    "from sklearn.model_selection import KFold\n",
    "from sklearn.preprocessing import StandardScaler\n",
    "from sklearn.pipeline import Pipeline"
   ]
  },
  {
   "cell_type": "code",
   "execution_count": 2,
   "metadata": {
    "collapsed": true
   },
   "outputs": [],
   "source": [
    "#load dataset with pandas"
   ]
  },
  {
   "cell_type": "code",
   "execution_count": 3,
   "metadata": {
    "collapsed": true
   },
   "outputs": [],
   "source": [
    "from os.path import expanduser as ospath\n",
    "Variant_1 = pd.read_csv(ospath(\"path/to/file/Features_Variant_1.csv\"),header=None)\n",
    "Variant_2 = pd.read_csv(ospath(\"path/to/file/Features_Variant_2.csv\"),header=None)\n",
    "Variant_3 = pd.read_csv(ospath(\"path/to/file/Features_Variant_3.csv\"),header=None)\n",
    "Variant_4 = pd.read_csv(ospath(\"path/to/file/Features_Variant_4.csv\"),header=None)\n",
    "Variant_5 = pd.read_csv(ospath(\"path/to/file/Features_Variant_5.csv\"),header=None)\n",
    "TestSet = pd.read_csv(ospath(\"path/to/file/Features_TestSet.csv\"),header=None)"
   ]
  },
  {
   "cell_type": "code",
   "execution_count": 4,
   "metadata": {
    "collapsed": true
   },
   "outputs": [],
   "source": [
    "#header file for all dtaset header info\n",
    "header = pd.read_csv(ospath(\"path/to/file/header.csv\"),header=0)"
   ]
  },
  {
   "cell_type": "code",
   "execution_count": 5,
   "metadata": {
    "collapsed": true
   },
   "outputs": [],
   "source": [
    "from sklearn.model_selection import train_test_split"
   ]
  },
  {
   "cell_type": "code",
   "execution_count": 6,
   "metadata": {
    "collapsed": true
   },
   "outputs": [],
   "source": [
    "#Preprocess dataset,define function for feature/target separation, train/test split\n",
    "def preprocessing(variant_x):\n",
    "    train_variant = pd.DataFrame(variant_x)\n",
    "    train_variant.columns=header.columns\n",
    "    target = 'Target'\n",
    "    features = list(train_variant.columns)\n",
    "    features = [f for f in features if f!=target]\n",
    "    X=train_variant[features]\n",
    "    y=train_variant[[target]]\n",
    "    X_train_1, X_test_1, y_train_1, y_test_1 = train_test_split(X, y, test_size=0.3,random_state=42)\n",
    "    return X_train_1, X_test_1, y_train_1, y_test_1"
   ]
  },
  {
   "cell_type": "code",
   "execution_count": 7,
   "metadata": {
    "collapsed": true
   },
   "outputs": [],
   "source": [
    "X_train_1, X_test_1, y_train_1, y_test_1 =preprocessing(Variant_3)"
   ]
  },
  {
   "cell_type": "code",
   "execution_count": 8,
   "metadata": {
    "collapsed": true
   },
   "outputs": [],
   "source": [
    "from sklearn.ensemble import RandomForestRegressor\n",
    "from sklearn.metrics import mean_squared_error"
   ]
  },
  {
   "cell_type": "code",
   "execution_count": null,
   "metadata": {
    "collapsed": true
   },
   "outputs": [],
   "source": [
    "#using random forest regressor conduct prediction "
   ]
  },
  {
   "cell_type": "code",
   "execution_count": 15,
   "metadata": {
    "collapsed": true
   },
   "outputs": [],
   "source": [
    "#function for Grid_search_cv for randomforestregressor\n",
    "def Grid_Search_CV_RFR(X_train, y_train):\n",
    "    estimator = RandomForestRegressor()\n",
    "    param_grid = { \n",
    "            \"n_estimators\"      : [10,20,30],\n",
    "            \"max_features\"      : [\"auto\", \"sqrt\", \"log2\"],\n",
    "            \"min_samples_split\" : [2,4,8],\n",
    "            \"bootstrap\": [True, False],\n",
    "            }\n",
    "\n",
    "    grid = GridSearchCV(estimator, param_grid, n_jobs=-1, cv=3,scoring='mean_squared_error')\n",
    "\n",
    "    grid.fit(X_train, y_train)\n",
    "\n",
    "    return grid.best_score_ , grid.best_params_"
   ]
  },
  {
   "cell_type": "code",
   "execution_count": 13,
   "metadata": {},
   "outputs": [
    {
     "name": "stderr",
     "output_type": "stream",
     "text": [
      "C:\\Users\\chippy\\Anaconda3\\lib\\site-packages\\sklearn\\model_selection\\_search.py:645: DataConversionWarning: A column-vector y was passed when a 1d array was expected. Please change the shape of y to (n_samples,), for example using ravel().\n",
      "  best_estimator.fit(X, y, **self.fit_params)\n"
     ]
    }
   ],
   "source": [
    "best_score, best_params= Grid_Search_CV_RFR(X_train_1, y_train_1)"
   ]
  },
  {
   "cell_type": "code",
   "execution_count": 14,
   "metadata": {},
   "outputs": [
    {
     "data": {
      "text/plain": [
       "(-339.38714677290852,\n",
       " {'bootstrap': True,\n",
       "  'max_features': 'auto',\n",
       "  'min_samples_split': 4,\n",
       "  'n_estimators': 30})"
      ]
     },
     "execution_count": 14,
     "metadata": {},
     "output_type": "execute_result"
    }
   ],
   "source": [
    "best_score, best_params"
   ]
  },
  {
   "cell_type": "code",
   "execution_count": 15,
   "metadata": {
    "collapsed": true
   },
   "outputs": [],
   "source": [
    "#The baseline model-elevate test result on each variant_x dataset"
   ]
  },
  {
   "cell_type": "code",
   "execution_count": 16,
   "metadata": {
    "collapsed": true
   },
   "outputs": [],
   "source": [
    "from sklearn.metrics import r2_score"
   ]
  },
  {
   "cell_type": "code",
   "execution_count": 17,
   "metadata": {
    "collapsed": true
   },
   "outputs": [],
   "source": [
    "def RFR(X_train, X_test, y_train, y_test, best_params):\n",
    "    from sklearn.ensemble import RandomForestRegressor\n",
    "    estimator = RandomForestRegressor(n_jobs=-1).set_params(**best_params)\n",
    "    estimator.fit(X_train,y_train)\n",
    "    y_predict = estimator.predict(X_test)\n",
    "    print (\"R2 score:\",r2_score(y_test,y_predict))\n",
    "    return y_test,y_predict"
   ]
  },
  {
   "cell_type": "code",
   "execution_count": 18,
   "metadata": {},
   "outputs": [
    {
     "name": "stderr",
     "output_type": "stream",
     "text": [
      "C:\\Users\\chippy\\Anaconda3\\lib\\site-packages\\ipykernel_launcher.py:4: DataConversionWarning: A column-vector y was passed when a 1d array was expected. Please change the shape of y to (n_samples,), for example using ravel().\n",
      "  after removing the cwd from sys.path.\n"
     ]
    },
    {
     "name": "stdout",
     "output_type": "stream",
     "text": [
      "R2 score: 0.706359694969\n"
     ]
    },
    {
     "data": {
      "text/plain": [
       "(        Target\n",
       " 36793        0\n",
       " 24455       24\n",
       " 20088      192\n",
       " 96778        0\n",
       " 104317       1\n",
       " 54272        1\n",
       " 42138       10\n",
       " 34917        3\n",
       " 32434       11\n",
       " 39903        0\n",
       " 59110        0\n",
       " 19716        2\n",
       " 949          0\n",
       " 36858        0\n",
       " 83649        0\n",
       " 105151       0\n",
       " 14766       11\n",
       " 53470        5\n",
       " 52731        0\n",
       " 82200        7\n",
       " 201          0\n",
       " 13821        2\n",
       " 69417        0\n",
       " 22775        0\n",
       " 36206        0\n",
       " 11241        4\n",
       " 113101       0\n",
       " 93170        5\n",
       " 81290        2\n",
       " 78327        0\n",
       " ...        ...\n",
       " 52405        0\n",
       " 119151       0\n",
       " 35463        1\n",
       " 179          0\n",
       " 37398        0\n",
       " 21338        0\n",
       " 36663        0\n",
       " 64846        0\n",
       " 56604        0\n",
       " 85188        2\n",
       " 30258        1\n",
       " 82492        1\n",
       " 107100       0\n",
       " 16156        6\n",
       " 96744        0\n",
       " 90210        0\n",
       " 109323       3\n",
       " 6237         0\n",
       " 37303       44\n",
       " 71929       12\n",
       " 21821       22\n",
       " 13676        0\n",
       " 2295        36\n",
       " 8898         0\n",
       " 35882        0\n",
       " 100077       2\n",
       " 38483        0\n",
       " 98945        1\n",
       " 95120        0\n",
       " 91201        0\n",
       " \n",
       " [36330 rows x 1 columns],\n",
       " array([  1.40000000e-01,   2.07758995e+01,   1.02890238e+02, ...,\n",
       "          6.55555556e-01,   5.94444444e-02,   0.00000000e+00]))"
      ]
     },
     "execution_count": 18,
     "metadata": {},
     "output_type": "execute_result"
    }
   ],
   "source": [
    "RFR(X_train_1,X_test_1, y_train_1, y_test_1,best_params)"
   ]
  },
  {
   "cell_type": "code",
   "execution_count": null,
   "metadata": {
    "collapsed": true
   },
   "outputs": [],
   "source": [
    "#scalling X_train,X_test-Y rmse change"
   ]
  },
  {
   "cell_type": "code",
   "execution_count": 19,
   "metadata": {
    "collapsed": true
   },
   "outputs": [],
   "source": [
    "from sklearn.preprocessing import StandardScaler\n",
    "scaler = StandardScaler()\n",
    "scaler.fit(X_train_1)\n",
    "X_trainS = scaler.transform(X_train_1)\n",
    "X_testS = scaler.transform(X_test_1)"
   ]
  },
  {
   "cell_type": "code",
   "execution_count": 21,
   "metadata": {},
   "outputs": [
    {
     "name": "stderr",
     "output_type": "stream",
     "text": [
      "C:\\Users\\chippy\\Anaconda3\\lib\\site-packages\\sklearn\\model_selection\\_search.py:645: DataConversionWarning: A column-vector y was passed when a 1d array was expected. Please change the shape of y to (n_samples,), for example using ravel().\n",
      "  best_estimator.fit(X, y, **self.fit_params)\n"
     ]
    }
   ],
   "source": [
    "best_score, best_params= Grid_Search_CV_RFR(X_trainS, y_train_1)"
   ]
  },
  {
   "cell_type": "code",
   "execution_count": 22,
   "metadata": {},
   "outputs": [
    {
     "data": {
      "text/plain": [
       "(-342.46631610687069,\n",
       " {'bootstrap': True,\n",
       "  'max_features': 'auto',\n",
       "  'min_samples_split': 2,\n",
       "  'n_estimators': 30})"
      ]
     },
     "execution_count": 22,
     "metadata": {},
     "output_type": "execute_result"
    }
   ],
   "source": [
    "best_score, best_params"
   ]
  },
  {
   "cell_type": "code",
   "execution_count": 23,
   "metadata": {},
   "outputs": [
    {
     "name": "stderr",
     "output_type": "stream",
     "text": [
      "C:\\Users\\chippy\\Anaconda3\\lib\\site-packages\\ipykernel_launcher.py:4: DataConversionWarning: A column-vector y was passed when a 1d array was expected. Please change the shape of y to (n_samples,), for example using ravel().\n",
      "  after removing the cwd from sys.path.\n"
     ]
    },
    {
     "name": "stdout",
     "output_type": "stream",
     "text": [
      "R2 score: 0.720385159732\n"
     ]
    },
    {
     "data": {
      "text/plain": [
       "(        Target\n",
       " 36793        0\n",
       " 24455       24\n",
       " 20088      192\n",
       " 96778        0\n",
       " 104317       1\n",
       " 54272        1\n",
       " 42138       10\n",
       " 34917        3\n",
       " 32434       11\n",
       " 39903        0\n",
       " 59110        0\n",
       " 19716        2\n",
       " 949          0\n",
       " 36858        0\n",
       " 83649        0\n",
       " 105151       0\n",
       " 14766       11\n",
       " 53470        5\n",
       " 52731        0\n",
       " 82200        7\n",
       " 201          0\n",
       " 13821        2\n",
       " 69417        0\n",
       " 22775        0\n",
       " 36206        0\n",
       " 11241        4\n",
       " 113101       0\n",
       " 93170        5\n",
       " 81290        2\n",
       " 78327        0\n",
       " ...        ...\n",
       " 52405        0\n",
       " 119151       0\n",
       " 35463        1\n",
       " 179          0\n",
       " 37398        0\n",
       " 21338        0\n",
       " 36663        0\n",
       " 64846        0\n",
       " 56604        0\n",
       " 85188        2\n",
       " 30258        1\n",
       " 82492        1\n",
       " 107100       0\n",
       " 16156        6\n",
       " 96744        0\n",
       " 90210        0\n",
       " 109323       3\n",
       " 6237         0\n",
       " 37303       44\n",
       " 71929       12\n",
       " 21821       22\n",
       " 13676        0\n",
       " 2295        36\n",
       " 8898         0\n",
       " 35882        0\n",
       " 100077       2\n",
       " 38483        0\n",
       " 98945        1\n",
       " 95120        0\n",
       " 91201        0\n",
       " \n",
       " [36330 rows x 1 columns],\n",
       " array([   0.16666667,   18.46666667,  101.53333333, ...,    0.63333333,\n",
       "           0.23333333,    0.        ]))"
      ]
     },
     "execution_count": 23,
     "metadata": {},
     "output_type": "execute_result"
    }
   ],
   "source": [
    "RFR(X_trainS,X_testS, y_train_1, y_test_1,best_params)"
   ]
  },
  {
   "cell_type": "code",
   "execution_count": null,
   "metadata": {
    "collapsed": true
   },
   "outputs": [],
   "source": [
    "#noted some imporvement after scalling the data"
   ]
  },
  {
   "cell_type": "code",
   "execution_count": null,
   "metadata": {
    "collapsed": true
   },
   "outputs": [],
   "source": [
    "#Keras+gridsearch"
   ]
  },
  {
   "cell_type": "code",
   "execution_count": 8,
   "metadata": {
    "collapsed": true
   },
   "outputs": [],
   "source": [
    "# define base model\n",
    "def baseline_model():\n",
    "# create model\n",
    "    model = Sequential()\n",
    "    model.add(Dense(13, input_dim=13, kernel_initializer='normal', activation='relu'))\n",
    "    model.add(Dense(1, kernel_initializer='normal'))\n",
    "# Compile model\n",
    "    model.compile(loss='mean_squared_error', optimizer='adam')\n",
    "    return model"
   ]
  },
  {
   "cell_type": "code",
   "execution_count": 13,
   "metadata": {},
   "outputs": [],
   "source": [
    "# fix random seed for reproducibility\n",
    "seed = 7\n",
    "numpy.random.seed(seed)\n",
    "# evaluate model with standardized dataset\n",
    "model = KerasRegressor(build_fn=baseline_model, nb_epoch=100, batch_size=5, verbose=0)"
   ]
  },
  {
   "cell_type": "code",
   "execution_count": null,
   "metadata": {},
   "outputs": [],
   "source": [
    "param_grid = dict(epochs=[10,20,30])\n",
    "grid = GridSearchCV(estimator=model, param_grid=param_grid, n_jobs=-1)\n",
    "grid_result = grid.fit(X_train_1,y_train_1)"
   ]
  },
  {
   "cell_type": "code",
   "execution_count": null,
   "metadata": {
    "collapsed": true
   },
   "outputs": [],
   "source": [
    "print(\"Best: %f using %s\" % (grid_result.best_score_, grid_result.best_params_))\n",
    "means = grid_result.cv_results_['mean_test_score']\n",
    "stds = grid_result.cv_results_['std_test_score']\n",
    "params = grid_result.cv_results_['params']\n",
    "for mean, stdev, param in zip(means, stds, params):\n",
    "    print(\"%f (%f) with: %r\" % (mean, stdev, param))"
   ]
  },
  {
   "cell_type": "code",
   "execution_count": null,
   "metadata": {
    "collapsed": true
   },
   "outputs": [],
   "source": [
    "#for loop i in dataset[Variant_1,Variant_2...]"
   ]
  },
  {
   "cell_type": "code",
   "execution_count": null,
   "metadata": {
    "collapsed": true
   },
   "outputs": [],
   "source": [
    "# https://stackoverflow.com/questions/43590489/gridsearchcv-random-forest-regressor-tuning-best-params\n",
    "#for looping datasets"
   ]
  },
  {
   "cell_type": "code",
   "execution_count": null,
   "metadata": {
    "collapsed": true
   },
   "outputs": [],
   "source": [
    "#conclusion"
   ]
  }
 ],
 "metadata": {
  "kernelspec": {
   "display_name": "Python 3",
   "language": "python",
   "name": "python3"
  },
  "language_info": {
   "codemirror_mode": {
    "name": "ipython",
    "version": 3
   },
   "file_extension": ".py",
   "mimetype": "text/x-python",
   "name": "python",
   "nbconvert_exporter": "python",
   "pygments_lexer": "ipython3",
   "version": "3.6.1"
  }
 },
 "nbformat": 4,
 "nbformat_minor": 2
}
